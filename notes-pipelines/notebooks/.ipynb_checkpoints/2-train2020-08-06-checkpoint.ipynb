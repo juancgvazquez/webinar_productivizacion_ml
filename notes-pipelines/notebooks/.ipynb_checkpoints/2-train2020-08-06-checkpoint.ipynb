{
 "cells": [
  {
   "cell_type": "code",
   "execution_count": 1,
   "metadata": {
    "execution": {
     "iopub.execute_input": "2020-08-06T23:26:40.188883Z",
     "iopub.status.busy": "2020-08-06T23:26:40.188248Z",
     "iopub.status.idle": "2020-08-06T23:26:41.085010Z",
     "shell.execute_reply": "2020-08-06T23:26:41.085504Z"
    },
    "papermill": {
     "duration": 0.914672,
     "end_time": "2020-08-06T23:26:41.085675",
     "exception": false,
     "start_time": "2020-08-06T23:26:40.171003",
     "status": "completed"
    },
    "tags": []
   },
   "outputs": [],
   "source": [
    "import pandas as pd\n",
    "from sklearn.ensemble import RandomForestRegressor\n",
    "from sklearn.model_selection import train_test_split\n",
    "import matplotlib.pyplot as plt\n",
    "import papermill as pm\n",
    "from datetime import datetime\n",
    "import pickle"
   ]
  },
  {
   "cell_type": "code",
   "execution_count": 2,
   "metadata": {
    "execution": {
     "iopub.execute_input": "2020-08-06T23:26:41.097237Z",
     "iopub.status.busy": "2020-08-06T23:26:41.096711Z",
     "iopub.status.idle": "2020-08-06T23:26:41.098409Z",
     "shell.execute_reply": "2020-08-06T23:26:41.098773Z"
    },
    "papermill": {
     "duration": 0.007994,
     "end_time": "2020-08-06T23:26:41.098895",
     "exception": false,
     "start_time": "2020-08-06T23:26:41.090901",
     "status": "completed"
    },
    "tags": [
     "parameters"
    ]
   },
   "outputs": [],
   "source": [
    "df2path = ''"
   ]
  },
  {
   "cell_type": "code",
   "execution_count": 3,
   "metadata": {
    "execution": {
     "iopub.execute_input": "2020-08-06T23:26:41.109527Z",
     "iopub.status.busy": "2020-08-06T23:26:41.109079Z",
     "iopub.status.idle": "2020-08-06T23:26:41.110679Z",
     "shell.execute_reply": "2020-08-06T23:26:41.111025Z"
    },
    "papermill": {
     "duration": 0.0086,
     "end_time": "2020-08-06T23:26:41.111145",
     "exception": false,
     "start_time": "2020-08-06T23:26:41.102545",
     "status": "completed"
    },
    "tags": [
     "injected-parameters"
    ]
   },
   "outputs": [],
   "source": [
    "# Parameters\n",
    "df2path = \"./tempdf2020-08-06.csv\"\n"
   ]
  },
  {
   "cell_type": "code",
   "execution_count": 4,
   "metadata": {
    "execution": {
     "iopub.execute_input": "2020-08-06T23:26:41.122267Z",
     "iopub.status.busy": "2020-08-06T23:26:41.121760Z",
     "iopub.status.idle": "2020-08-06T23:26:41.223976Z",
     "shell.execute_reply": "2020-08-06T23:26:41.224443Z"
    },
    "papermill": {
     "duration": 0.110045,
     "end_time": "2020-08-06T23:26:41.224564",
     "exception": false,
     "start_time": "2020-08-06T23:26:41.114519",
     "status": "completed"
    },
    "tags": []
   },
   "outputs": [
    {
     "data": {
      "text/plain": [
       "RandomForestRegressor(bootstrap=True, ccp_alpha=0.0, criterion='mse',\n",
       "                      max_depth=None, max_features='auto', max_leaf_nodes=None,\n",
       "                      max_samples=None, min_impurity_decrease=0.0,\n",
       "                      min_impurity_split=None, min_samples_leaf=1,\n",
       "                      min_samples_split=2, min_weight_fraction_leaf=0.0,\n",
       "                      n_estimators=100, n_jobs=None, oob_score=False,\n",
       "                      random_state=None, verbose=0, warm_start=False)"
      ]
     },
     "execution_count": 4,
     "metadata": {},
     "output_type": "execute_result"
    }
   ],
   "source": [
    "df2 = pd.read_csv(df2path)\n",
    "X = df2[['surface_covered']]\n",
    "y = df2['price']\n",
    "X_train, X_test, y_train, y_test = train_test_split(X, y, test_size=0.20, random_state=42)\n",
    "model = RandomForestRegressor()\n",
    "model.fit(X_train,y_train)"
   ]
  },
  {
   "cell_type": "code",
   "execution_count": 5,
   "metadata": {
    "execution": {
     "iopub.execute_input": "2020-08-06T23:26:41.237394Z",
     "iopub.status.busy": "2020-08-06T23:26:41.236523Z",
     "iopub.status.idle": "2020-08-06T23:26:41.361940Z",
     "shell.execute_reply": "2020-08-06T23:26:41.360921Z"
    },
    "papermill": {
     "duration": 0.133069,
     "end_time": "2020-08-06T23:26:41.362130",
     "exception": false,
     "start_time": "2020-08-06T23:26:41.229061",
     "status": "completed"
    },
    "tags": []
   },
   "outputs": [],
   "source": [
    "X_test.to_csv('tempXtest.csv',index=False)\n",
    "y_test.to_csv('tempytest.csv',index=False)\n",
    "with open('model.pkl','wb') as f:\n",
    "    pickle.dump(model,f)"
   ]
  },
  {
   "cell_type": "code",
   "execution_count": 6,
   "metadata": {
    "execution": {
     "iopub.execute_input": "2020-08-06T23:26:41.384704Z",
     "iopub.status.busy": "2020-08-06T23:26:41.383946Z",
     "iopub.status.idle": "2020-08-06T23:26:44.577043Z",
     "shell.execute_reply": "2020-08-06T23:26:44.577558Z"
    },
    "papermill": {
     "duration": 3.205403,
     "end_time": "2020-08-06T23:26:44.577694",
     "exception": false,
     "start_time": "2020-08-06T23:26:41.372291",
     "status": "completed"
    },
    "tags": []
   },
   "outputs": [
    {
     "data": {
      "application/vnd.jupyter.widget-view+json": {
       "model_id": "78559443f3e3426ebbd94422e4293071",
       "version_major": 2,
       "version_minor": 0
      },
      "text/plain": [
       "HBox(children=(FloatProgress(value=0.0, description='Executing', max=5.0, style=ProgressStyle(description_widt…"
      ]
     },
     "metadata": {},
     "output_type": "display_data"
    },
    {
     "name": "stdout",
     "output_type": "stream",
     "text": [
      "\n"
     ]
    },
    {
     "data": {
      "text/plain": [
       "{'cells': [{'cell_type': 'code',\n",
       "   'execution_count': 1,\n",
       "   'metadata': {'tags': [],\n",
       "    'papermill': {'exception': False,\n",
       "     'start_time': '2020-08-06T23:26:42.095602',\n",
       "     'end_time': '2020-08-06T23:26:43.062266',\n",
       "     'duration': 0.966664,\n",
       "     'status': 'completed'},\n",
       "    'execution': {'iopub.status.busy': '2020-08-06T23:26:42.129446Z',\n",
       "     'iopub.execute_input': '2020-08-06T23:26:42.131039Z',\n",
       "     'iopub.status.idle': '2020-08-06T23:26:43.061624Z',\n",
       "     'shell.execute_reply': '2020-08-06T23:26:43.062115Z'}},\n",
       "   'outputs': [],\n",
       "   'source': 'import pandas as pd\\nfrom sklearn.ensemble import RandomForestRegressor\\nfrom sklearn.model_selection import train_test_split\\nfrom sklearn.metrics import mean_absolute_error, mean_squared_error, r2_score\\nimport matplotlib.pyplot as plt\\nimport papermill as pm\\nimport pickle'},\n",
       "  {'cell_type': 'code',\n",
       "   'execution_count': 2,\n",
       "   'metadata': {'tags': ['parameters'],\n",
       "    'papermill': {'exception': False,\n",
       "     'start_time': '2020-08-06T23:26:43.067054',\n",
       "     'end_time': '2020-08-06T23:26:43.075331',\n",
       "     'duration': 0.008277,\n",
       "     'status': 'completed'},\n",
       "    'execution': {'iopub.status.busy': '2020-08-06T23:26:43.073402Z',\n",
       "     'iopub.execute_input': '2020-08-06T23:26:43.074113Z',\n",
       "     'shell.execute_reply': '2020-08-06T23:26:43.074824Z',\n",
       "     'iopub.status.idle': '2020-08-06T23:26:43.075235Z'}},\n",
       "   'outputs': [],\n",
       "   'source': \"model = ''\\nX_test = ''\\ny_test = ''\"},\n",
       "  {'cell_type': 'code',\n",
       "   'metadata': {'tags': ['injected-parameters'],\n",
       "    'papermill': {'exception': False,\n",
       "     'start_time': '2020-08-06T23:26:43.078130',\n",
       "     'end_time': '2020-08-06T23:26:43.085341',\n",
       "     'duration': 0.007211,\n",
       "     'status': 'completed'},\n",
       "    'execution': {'iopub.status.busy': '2020-08-06T23:26:43.083360Z',\n",
       "     'iopub.execute_input': '2020-08-06T23:26:43.083790Z',\n",
       "     'shell.execute_reply': '2020-08-06T23:26:43.084775Z',\n",
       "     'iopub.status.idle': '2020-08-06T23:26:43.085240Z'}},\n",
       "   'execution_count': 3,\n",
       "   'source': '# Parameters\\nmodel = \"./model.pkl\"\\nX_test = \"./tempXtest.csv\"\\ny_test = \"./tempytest.csv\"\\n',\n",
       "   'outputs': []},\n",
       "  {'cell_type': 'code',\n",
       "   'execution_count': 4,\n",
       "   'metadata': {'tags': [],\n",
       "    'papermill': {'exception': False,\n",
       "     'start_time': '2020-08-06T23:26:43.088230',\n",
       "     'end_time': '2020-08-06T23:26:43.108989',\n",
       "     'duration': 0.020759,\n",
       "     'status': 'completed'},\n",
       "    'execution': {'iopub.status.busy': '2020-08-06T23:26:43.094322Z',\n",
       "     'iopub.execute_input': '2020-08-06T23:26:43.094770Z',\n",
       "     'shell.execute_reply': '2020-08-06T23:26:43.108394Z',\n",
       "     'iopub.status.idle': '2020-08-06T23:26:43.108891Z'}},\n",
       "   'outputs': [],\n",
       "   'source': 'with open(model,\\'rb\\') as f:\\n    model = pickle.load(f)\\nX_test = pd.read_csv(X_test)\\n#y_test = pd.read_csv(y_test)\\npredictions = model.predict(X_test)\\n#mean_squared_error(y_test,predictions)\\n#print(\"Rscore Model\",r2_score(y_test,predictions))'},\n",
       "  {'cell_type': 'code',\n",
       "   'execution_count': None,\n",
       "   'metadata': {'tags': [],\n",
       "    'papermill': {'exception': False,\n",
       "     'start_time': '2020-08-06T23:26:43.112277',\n",
       "     'end_time': '2020-08-06T23:26:43.115456',\n",
       "     'duration': 0.003179,\n",
       "     'status': 'completed'}},\n",
       "   'outputs': [],\n",
       "   'source': ''}],\n",
       " 'metadata': {'celltoolbar': 'Tags',\n",
       "  'kernelspec': {'display_name': 'Python 3',\n",
       "   'language': 'python',\n",
       "   'name': 'python3'},\n",
       "  'language_info': {'name': 'python',\n",
       "   'version': '3.8.3',\n",
       "   'mimetype': 'text/x-python',\n",
       "   'codemirror_mode': {'name': 'ipython', 'version': 3},\n",
       "   'pygments_lexer': 'ipython3',\n",
       "   'nbconvert_exporter': 'python',\n",
       "   'file_extension': '.py'},\n",
       "  'papermill': {'parameters': {'model': './model.pkl',\n",
       "    'X_test': './tempXtest.csv',\n",
       "    'y_test': './tempytest.csv'},\n",
       "   'environment_variables': {},\n",
       "   'version': '2.1.2',\n",
       "   'input_path': './3-predict.ipynb',\n",
       "   'output_path': './3-predict2020-08-06.ipynb',\n",
       "   'start_time': '2020-08-06T23:26:41.493478',\n",
       "   'end_time': '2020-08-06T23:26:44.533308',\n",
       "   'duration': 3.03983,\n",
       "   'exception': None}},\n",
       " 'nbformat': 4,\n",
       " 'nbformat_minor': 4}"
      ]
     },
     "execution_count": 6,
     "metadata": {},
     "output_type": "execute_result"
    }
   ],
   "source": [
    "pm.execute_notebook(\n",
    "   './3-predict.ipynb',\n",
    "   './3-predict'+str(datetime.now().date())+'.ipynb',\n",
    "   parameters={\"model\":'./model.pkl', \"X_test\":'./tempXtest.csv',\"y_test\":'./tempytest.csv'}\n",
    ")"
   ]
  }
 ],
 "metadata": {
  "celltoolbar": "Tags",
  "kernelspec": {
   "display_name": "Python 3",
   "language": "python",
   "name": "python3"
  },
  "language_info": {
   "codemirror_mode": {
    "name": "ipython",
    "version": 3
   },
   "file_extension": ".py",
   "mimetype": "text/x-python",
   "name": "python",
   "nbconvert_exporter": "python",
   "pygments_lexer": "ipython3",
   "version": "3.8.3"
  },
  "papermill": {
   "duration": 7.089434,
   "end_time": "2020-08-06T23:26:46.608805",
   "environment_variables": {},
   "exception": null,
   "input_path": "./2-train.ipynb",
   "output_path": "./2-train2020-08-06.ipynb",
   "parameters": {
    "df2path": "./tempdf2020-08-06.csv"
   },
   "start_time": "2020-08-06T23:26:39.519371",
   "version": "2.1.2"
  },
  "widgets": {
   "application/vnd.jupyter.widget-state+json": {
    "state": {
     "19d9516cfb684433a9d1cbfe635583bf": {
      "model_module": "@jupyter-widgets/controls",
      "model_module_version": "1.5.0",
      "model_name": "HTMLModel",
      "state": {
       "_dom_classes": [],
       "_model_module": "@jupyter-widgets/controls",
       "_model_module_version": "1.5.0",
       "_model_name": "HTMLModel",
       "_view_count": null,
       "_view_module": "@jupyter-widgets/controls",
       "_view_module_version": "1.5.0",
       "_view_name": "HTMLView",
       "description": "",
       "description_tooltip": null,
       "layout": "IPY_MODEL_bdaa11c95d834d7ca8bec7f64d7978d8",
       "placeholder": "​",
       "style": "IPY_MODEL_c1be7564ad9f42d6a57cd523b9185ec6",
       "value": " 5/5 [00:03&lt;00:00,  1.64cell/s]"
      }
     },
     "398d0b60c255450f87973212d6a43ca7": {
      "model_module": "@jupyter-widgets/controls",
      "model_module_version": "1.5.0",
      "model_name": "ProgressStyleModel",
      "state": {
       "_model_module": "@jupyter-widgets/controls",
       "_model_module_version": "1.5.0",
       "_model_name": "ProgressStyleModel",
       "_view_count": null,
       "_view_module": "@jupyter-widgets/base",
       "_view_module_version": "1.2.0",
       "_view_name": "StyleView",
       "bar_color": null,
       "description_width": "initial"
      }
     },
     "5677c64b927b47e1a1ae3008477433ca": {
      "model_module": "@jupyter-widgets/controls",
      "model_module_version": "1.5.0",
      "model_name": "FloatProgressModel",
      "state": {
       "_dom_classes": [],
       "_model_module": "@jupyter-widgets/controls",
       "_model_module_version": "1.5.0",
       "_model_name": "FloatProgressModel",
       "_view_count": null,
       "_view_module": "@jupyter-widgets/controls",
       "_view_module_version": "1.5.0",
       "_view_name": "ProgressView",
       "bar_style": "success",
       "description": "Executing: 100%",
       "description_tooltip": null,
       "layout": "IPY_MODEL_f9bed92af2ca411ea413fe5f4e2c8ff8",
       "max": 5,
       "min": 0,
       "orientation": "horizontal",
       "style": "IPY_MODEL_398d0b60c255450f87973212d6a43ca7",
       "value": 5
      }
     },
     "78559443f3e3426ebbd94422e4293071": {
      "model_module": "@jupyter-widgets/controls",
      "model_module_version": "1.5.0",
      "model_name": "HBoxModel",
      "state": {
       "_dom_classes": [],
       "_model_module": "@jupyter-widgets/controls",
       "_model_module_version": "1.5.0",
       "_model_name": "HBoxModel",
       "_view_count": null,
       "_view_module": "@jupyter-widgets/controls",
       "_view_module_version": "1.5.0",
       "_view_name": "HBoxView",
       "box_style": "",
       "children": [
        "IPY_MODEL_5677c64b927b47e1a1ae3008477433ca",
        "IPY_MODEL_19d9516cfb684433a9d1cbfe635583bf"
       ],
       "layout": "IPY_MODEL_e7930dc69056462f8b58bb1d13c656ae"
      }
     },
     "bdaa11c95d834d7ca8bec7f64d7978d8": {
      "model_module": "@jupyter-widgets/base",
      "model_module_version": "1.2.0",
      "model_name": "LayoutModel",
      "state": {
       "_model_module": "@jupyter-widgets/base",
       "_model_module_version": "1.2.0",
       "_model_name": "LayoutModel",
       "_view_count": null,
       "_view_module": "@jupyter-widgets/base",
       "_view_module_version": "1.2.0",
       "_view_name": "LayoutView",
       "align_content": null,
       "align_items": null,
       "align_self": null,
       "border": null,
       "bottom": null,
       "display": null,
       "flex": null,
       "flex_flow": null,
       "grid_area": null,
       "grid_auto_columns": null,
       "grid_auto_flow": null,
       "grid_auto_rows": null,
       "grid_column": null,
       "grid_gap": null,
       "grid_row": null,
       "grid_template_areas": null,
       "grid_template_columns": null,
       "grid_template_rows": null,
       "height": null,
       "justify_content": null,
       "justify_items": null,
       "left": null,
       "margin": null,
       "max_height": null,
       "max_width": null,
       "min_height": null,
       "min_width": null,
       "object_fit": null,
       "object_position": null,
       "order": null,
       "overflow": null,
       "overflow_x": null,
       "overflow_y": null,
       "padding": null,
       "right": null,
       "top": null,
       "visibility": null,
       "width": null
      }
     },
     "c1be7564ad9f42d6a57cd523b9185ec6": {
      "model_module": "@jupyter-widgets/controls",
      "model_module_version": "1.5.0",
      "model_name": "DescriptionStyleModel",
      "state": {
       "_model_module": "@jupyter-widgets/controls",
       "_model_module_version": "1.5.0",
       "_model_name": "DescriptionStyleModel",
       "_view_count": null,
       "_view_module": "@jupyter-widgets/base",
       "_view_module_version": "1.2.0",
       "_view_name": "StyleView",
       "description_width": ""
      }
     },
     "e7930dc69056462f8b58bb1d13c656ae": {
      "model_module": "@jupyter-widgets/base",
      "model_module_version": "1.2.0",
      "model_name": "LayoutModel",
      "state": {
       "_model_module": "@jupyter-widgets/base",
       "_model_module_version": "1.2.0",
       "_model_name": "LayoutModel",
       "_view_count": null,
       "_view_module": "@jupyter-widgets/base",
       "_view_module_version": "1.2.0",
       "_view_name": "LayoutView",
       "align_content": null,
       "align_items": null,
       "align_self": null,
       "border": null,
       "bottom": null,
       "display": null,
       "flex": null,
       "flex_flow": null,
       "grid_area": null,
       "grid_auto_columns": null,
       "grid_auto_flow": null,
       "grid_auto_rows": null,
       "grid_column": null,
       "grid_gap": null,
       "grid_row": null,
       "grid_template_areas": null,
       "grid_template_columns": null,
       "grid_template_rows": null,
       "height": null,
       "justify_content": null,
       "justify_items": null,
       "left": null,
       "margin": null,
       "max_height": null,
       "max_width": null,
       "min_height": null,
       "min_width": null,
       "object_fit": null,
       "object_position": null,
       "order": null,
       "overflow": null,
       "overflow_x": null,
       "overflow_y": null,
       "padding": null,
       "right": null,
       "top": null,
       "visibility": null,
       "width": null
      }
     },
     "f9bed92af2ca411ea413fe5f4e2c8ff8": {
      "model_module": "@jupyter-widgets/base",
      "model_module_version": "1.2.0",
      "model_name": "LayoutModel",
      "state": {
       "_model_module": "@jupyter-widgets/base",
       "_model_module_version": "1.2.0",
       "_model_name": "LayoutModel",
       "_view_count": null,
       "_view_module": "@jupyter-widgets/base",
       "_view_module_version": "1.2.0",
       "_view_name": "LayoutView",
       "align_content": null,
       "align_items": null,
       "align_self": null,
       "border": null,
       "bottom": null,
       "display": null,
       "flex": null,
       "flex_flow": null,
       "grid_area": null,
       "grid_auto_columns": null,
       "grid_auto_flow": null,
       "grid_auto_rows": null,
       "grid_column": null,
       "grid_gap": null,
       "grid_row": null,
       "grid_template_areas": null,
       "grid_template_columns": null,
       "grid_template_rows": null,
       "height": null,
       "justify_content": null,
       "justify_items": null,
       "left": null,
       "margin": null,
       "max_height": null,
       "max_width": null,
       "min_height": null,
       "min_width": null,
       "object_fit": null,
       "object_position": null,
       "order": null,
       "overflow": null,
       "overflow_x": null,
       "overflow_y": null,
       "padding": null,
       "right": null,
       "top": null,
       "visibility": null,
       "width": null
      }
     }
    },
    "version_major": 2,
    "version_minor": 0
   }
  }
 },
 "nbformat": 4,
 "nbformat_minor": 4
}
