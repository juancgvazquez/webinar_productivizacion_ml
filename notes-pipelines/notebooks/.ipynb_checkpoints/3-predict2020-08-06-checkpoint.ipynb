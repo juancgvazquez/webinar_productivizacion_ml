{
 "cells": [
  {
   "cell_type": "code",
   "execution_count": 1,
   "metadata": {
    "execution": {
     "iopub.execute_input": "2020-08-06T23:26:42.131039Z",
     "iopub.status.busy": "2020-08-06T23:26:42.129446Z",
     "iopub.status.idle": "2020-08-06T23:26:43.061624Z",
     "shell.execute_reply": "2020-08-06T23:26:43.062115Z"
    },
    "papermill": {
     "duration": 0.966664,
     "end_time": "2020-08-06T23:26:43.062266",
     "exception": false,
     "start_time": "2020-08-06T23:26:42.095602",
     "status": "completed"
    },
    "tags": []
   },
   "outputs": [],
   "source": [
    "import pandas as pd\n",
    "from sklearn.ensemble import RandomForestRegressor\n",
    "from sklearn.model_selection import train_test_split\n",
    "from sklearn.metrics import mean_absolute_error, mean_squared_error, r2_score\n",
    "import matplotlib.pyplot as plt\n",
    "import papermill as pm\n",
    "import pickle"
   ]
  },
  {
   "cell_type": "code",
   "execution_count": 2,
   "metadata": {
    "execution": {
     "iopub.execute_input": "2020-08-06T23:26:43.074113Z",
     "iopub.status.busy": "2020-08-06T23:26:43.073402Z",
     "iopub.status.idle": "2020-08-06T23:26:43.075235Z",
     "shell.execute_reply": "2020-08-06T23:26:43.074824Z"
    },
    "papermill": {
     "duration": 0.008277,
     "end_time": "2020-08-06T23:26:43.075331",
     "exception": false,
     "start_time": "2020-08-06T23:26:43.067054",
     "status": "completed"
    },
    "tags": [
     "parameters"
    ]
   },
   "outputs": [],
   "source": [
    "model = ''\n",
    "X_test = ''\n",
    "y_test = ''"
   ]
  },
  {
   "cell_type": "code",
   "execution_count": 3,
   "metadata": {
    "execution": {
     "iopub.execute_input": "2020-08-06T23:26:43.083790Z",
     "iopub.status.busy": "2020-08-06T23:26:43.083360Z",
     "iopub.status.idle": "2020-08-06T23:26:43.085240Z",
     "shell.execute_reply": "2020-08-06T23:26:43.084775Z"
    },
    "papermill": {
     "duration": 0.007211,
     "end_time": "2020-08-06T23:26:43.085341",
     "exception": false,
     "start_time": "2020-08-06T23:26:43.078130",
     "status": "completed"
    },
    "tags": [
     "injected-parameters"
    ]
   },
   "outputs": [],
   "source": [
    "# Parameters\n",
    "model = \"./model.pkl\"\n",
    "X_test = \"./tempXtest.csv\"\n",
    "y_test = \"./tempytest.csv\"\n"
   ]
  },
  {
   "cell_type": "code",
   "execution_count": 4,
   "metadata": {
    "execution": {
     "iopub.execute_input": "2020-08-06T23:26:43.094770Z",
     "iopub.status.busy": "2020-08-06T23:26:43.094322Z",
     "iopub.status.idle": "2020-08-06T23:26:43.108891Z",
     "shell.execute_reply": "2020-08-06T23:26:43.108394Z"
    },
    "papermill": {
     "duration": 0.020759,
     "end_time": "2020-08-06T23:26:43.108989",
     "exception": false,
     "start_time": "2020-08-06T23:26:43.088230",
     "status": "completed"
    },
    "tags": []
   },
   "outputs": [
    {
     "name": "stdout",
     "output_type": "stream",
     "text": [
      "Rscore Model -0.053690207762505215\n"
     ]
    }
   ],
   "source": [
    "with open(model,'rb') as f:\n",
    "    model = pickle.load(f)\n",
    "X_test = pd.read_csv(X_test)\n",
    "y_test = pd.read_csv(y_test)\n",
    "predictions = model.predict(X_test)\n",
    "mean_squared_error(y_test,predictions)\n",
    "print(\"Rscore Model\",r2_score(y_test,predictions))"
   ]
  },
  {
   "cell_type": "code",
   "execution_count": null,
   "metadata": {
    "papermill": {
     "duration": 0.003179,
     "end_time": "2020-08-06T23:26:43.115456",
     "exception": false,
     "start_time": "2020-08-06T23:26:43.112277",
     "status": "completed"
    },
    "tags": []
   },
   "outputs": [],
   "source": []
  }
 ],
 "metadata": {
  "celltoolbar": "Tags",
  "kernelspec": {
   "display_name": "Python 3",
   "language": "python",
   "name": "python3"
  },
  "language_info": {
   "codemirror_mode": {
    "name": "ipython",
    "version": 3
   },
   "file_extension": ".py",
   "mimetype": "text/x-python",
   "name": "python",
   "nbconvert_exporter": "python",
   "pygments_lexer": "ipython3",
   "version": "3.8.3"
  },
  "papermill": {
   "duration": 3.03983,
   "end_time": "2020-08-06T23:26:44.533308",
   "environment_variables": {},
   "exception": null,
   "input_path": "./3-predict.ipynb",
   "output_path": "./3-predict2020-08-06.ipynb",
   "parameters": {
    "X_test": "./tempXtest.csv",
    "model": "./model.pkl",
    "y_test": "./tempytest.csv"
   },
   "start_time": "2020-08-06T23:26:41.493478",
   "version": "2.1.2"
  }
 },
 "nbformat": 4,
 "nbformat_minor": 4
}
