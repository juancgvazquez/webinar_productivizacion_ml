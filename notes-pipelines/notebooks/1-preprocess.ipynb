{
 "cells": [
  {
   "cell_type": "code",
   "execution_count": 8,
   "metadata": {},
   "outputs": [],
   "source": [
    "import pandas as pd\n",
    "import papermill as pm\n",
    "from datetime import datetime"
   ]
  },
  {
   "cell_type": "code",
   "execution_count": 2,
   "metadata": {
    "tags": [
     "parameters"
    ]
   },
   "outputs": [],
   "source": [
    "path='../../data/raw/ar_properties.csv.gz'\n",
    "prov='Córdoba'\n",
    "curr='USD'\n",
    "IQR=5\n",
    "DOUBLEIQR=IQR*2"
   ]
  },
  {
   "cell_type": "code",
   "execution_count": 4,
   "metadata": {},
   "outputs": [
    {
     "name": "stdout",
     "output_type": "stream",
     "text": [
      "IQR: 5, DOUBLEIQR: 10\n"
     ]
    }
   ],
   "source": [
    "print(\"IQR: {}, DOUBLEIQR: {}\".format(IQR,DOUBLEIQR))"
   ]
  },
  {
   "cell_type": "code",
   "execution_count": 5,
   "metadata": {},
   "outputs": [],
   "source": [
    "def drop_outliers(df,listacols):\n",
    "    for col in listacols:\n",
    "        IQRVAL = df[col].quantile(0.75)-df[col].quantile(0.25)\n",
    "        IQRVAL = IQRVAL * IQR\n",
    "        df = df.loc[df[col]<IQRVAL]\n",
    "    return df"
   ]
  },
  {
   "cell_type": "code",
   "execution_count": null,
   "metadata": {},
   "outputs": [],
   "source": [
    "df = pd.read_csv(path)\n",
    "df = df[df['l2']==prov]\n",
    "df = df[df['currency']==curr]\n",
    "df = df[df['operation_type']=='Venta']\n",
    "colstodrop=['lat','lon','l1','l2','start_date','end_date','id',\n",
    "            'ad_type','description','title','property_type','operation_type',\n",
    "            'price_period','l3','l4','l5','l6','created_on']\n",
    "df = df.drop(columns=colstodrop)\n",
    "df.dropna(inplace=True)\n",
    "df2 = drop_outliers(df,['surface_covered','surface_total','price'])"
   ]
  },
  {
   "cell_type": "code",
   "execution_count": 15,
   "metadata": {},
   "outputs": [],
   "source": [
    "outputpath = './tempdf'+str(datetime.now().date())+'.csv'"
   ]
  },
  {
   "cell_type": "code",
   "execution_count": null,
   "metadata": {},
   "outputs": [],
   "source": [
    "df2.to_csv(outputpath)"
   ]
  },
  {
   "cell_type": "code",
   "execution_count": null,
   "metadata": {},
   "outputs": [],
   "source": [
    "pm.execute_notebook(\n",
    "   './2-train.ipynb',\n",
    "   './2-train'+str(datetime.now().date())+'.ipynb',\n",
    "   parameters={\"df2path\":outputpath}\n",
    ")"
   ]
  }
 ],
 "metadata": {
  "celltoolbar": "Tags",
  "kernelspec": {
   "display_name": "Python 3",
   "language": "python",
   "name": "python3"
  },
  "language_info": {
   "codemirror_mode": {
    "name": "ipython",
    "version": 3
   },
   "file_extension": ".py",
   "mimetype": "text/x-python",
   "name": "python",
   "nbconvert_exporter": "python",
   "pygments_lexer": "ipython3",
   "version": "3.8.3"
  }
 },
 "nbformat": 4,
 "nbformat_minor": 4
}
