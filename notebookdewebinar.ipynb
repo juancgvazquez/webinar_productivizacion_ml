{
 "cells": [
  {
   "cell_type": "code",
   "execution_count": 1,
   "metadata": {},
   "outputs": [],
   "source": [
    "import requests\n",
    "import json\n",
    "import logging"
   ]
  },
  {
   "cell_type": "code",
   "execution_count": 2,
   "metadata": {},
   "outputs": [],
   "source": [
    "logging.basicConfig(level=logging.DEBUG)"
   ]
  },
  {
   "cell_type": "code",
   "execution_count": 4,
   "metadata": {},
   "outputs": [
    {
     "name": "stderr",
     "output_type": "stream",
     "text": [
      "DEBUG:urllib3.connectionpool:Starting new HTTP connection (1): localhost:8000\n",
      "DEBUG:urllib3.connectionpool:http://localhost:8000 \"GET /api/health/heartbeat HTTP/1.1\" 200 17\n"
     ]
    },
    {
     "name": "stdout",
     "output_type": "stream",
     "text": [
      "{'is_alive': True}\n"
     ]
    }
   ],
   "source": [
    "try:\n",
    "    response=requests.get('http://localhost:8000/api/health/heartbeat').json()\n",
    "    print(response)\n",
    "except Exception as err:\n",
    "    logging.error('There was an error with the connection')\n",
    "    logging.debug('Error was: %s' % err,exc_info=True)"
   ]
  },
  {
   "cell_type": "code",
   "execution_count": 14,
   "metadata": {},
   "outputs": [],
   "source": [
    "debug"
   ]
  },
  {
   "cell_type": "code",
   "execution_count": 6,
   "metadata": {},
   "outputs": [],
   "source": [
    "payload={\n",
    "\"median_income_in_block\": 0,\n",
    "\"median_house_age_in_block\": 0,\n",
    "\"average_rooms\": 0,\n",
    "\"average_bedrooms\": 0,\n",
    "\"population_per_block\": 0,\n",
    "\"average_house_occupancy\": 0,\n",
    "\"block_latitude\": 0,\n",
    "\"block_longitude\": 0\n",
    "}"
   ]
  },
  {
   "cell_type": "code",
   "execution_count": 7,
   "metadata": {},
   "outputs": [
    {
     "name": "stderr",
     "output_type": "stream",
     "text": [
      "DEBUG:urllib3.connectionpool:Starting new HTTP connection (1): localhost:8000\n",
      "DEBUG:urllib3.connectionpool:http://localhost:8000 \"POST /api/model/predict HTTP/1.1\" 200 48\n"
     ]
    },
    {
     "data": {
      "text/plain": [
       "{'median_house_value': -3689554, 'currency': 'USD'}"
      ]
     },
     "execution_count": 7,
     "metadata": {},
     "output_type": "execute_result"
    }
   ],
   "source": [
    "requests.post('http://localhost:8000/api/model/predict',data=json.dumps(payload),headers={'token':'6a7c24d3-6d1f-4129-87be-d7aeba15729e'}).json()"
   ]
  },
  {
   "cell_type": "code",
   "execution_count": null,
   "metadata": {},
   "outputs": [],
   "source": []
  }
 ],
 "metadata": {
  "kernelspec": {
   "display_name": "Python 3",
   "language": "python",
   "name": "python3"
  },
  "language_info": {
   "codemirror_mode": {
    "name": "ipython",
    "version": 3
   },
   "file_extension": ".py",
   "mimetype": "text/x-python",
   "name": "python",
   "nbconvert_exporter": "python",
   "pygments_lexer": "ipython3",
   "version": "3.8.3"
  }
 },
 "nbformat": 4,
 "nbformat_minor": 4
}
